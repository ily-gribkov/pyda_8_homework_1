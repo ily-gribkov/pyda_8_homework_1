{
 "cells": [
  {
   "cell_type": "markdown",
   "metadata": {},
   "source": [
    "**Задание 1**. Даны 2 строки: *long_phrase* и *short_phrase*. \n",
    "Напишите код, который проверяет действительно ли длинная фраза *long_phrase* длиннее короткой *short_phrase*. И выводит *True* или *False* в зависимости от результата сравнения."
   ]
  },
  {
   "cell_type": "code",
   "execution_count": 5,
   "metadata": {},
   "outputs": [],
   "source": [
    "long_phrase = 'Насколько проще было бы писать программы, если бы не заказчики'\n",
    "short_phrase = '640Кб должно хватить для любых задач. Билл Гейтс (по легенде)'"
   ]
  },
  {
   "cell_type": "code",
   "execution_count": 6,
   "metadata": {},
   "outputs": [
    {
     "name": "stdout",
     "output_type": "stream",
     "text": [
      "True\n"
     ]
    }
   ],
   "source": [
    "if len(long_phrase) > len(short_phrase):\n",
    "    print(\"True\")\n",
    "else:\n",
    "    print(\"False\")"
   ]
  },
  {
   "cell_type": "markdown",
   "metadata": {},
   "source": [
    "**Задание 2**. Дано значение объема файла в байтах. Напишите перевод этого значения в мегабайты в формате: \"*Объем файла равен 213.68Mb*\""
   ]
  },
  {
   "cell_type": "code",
   "execution_count": 7,
   "metadata": {},
   "outputs": [
    {
     "name": "stdout",
     "output_type": "stream",
     "text": [
      "Объем файла равен 213.68\n"
     ]
    }
   ],
   "source": [
    "bytes_ = 224059719.68\n",
    "mb_bytes = bytes_ / 1048576\n",
    "print( \"Объем файла равен\", mb_bytes)"
   ]
  },
  {
   "cell_type": "markdown",
   "metadata": {},
   "source": [
    "**Задание 3**. Разработать приложение для определения знака зодиака по дате рождения. Пример:\n",
    "\n",
    "Введите месяц: март\n",
    "\n",
    "Введите число: 6\n",
    "\n",
    "Вывод:\n",
    "Рыбы"
   ]
  },
  {
   "cell_type": "code",
   "execution_count": null,
   "metadata": {},
   "outputs": [],
   "source": [
    "mouth = input('Введите месяц')\n",
    "date = int(input('Введите дату'))\n",
    "if (mouth == \"январь\" and date >= 21) or (mouth == \"февраль\" and date <= 18):\n",
    "    print(\"Водолей\")\n",
    "elif (mouth == \"январь\" and date <= 20) or (mouth == \"декабрь\" and date >= 22):\n",
    "    print(\"Козерог\")\n",
    "elif (mouth == \"февраль\" and date >= 19) or (mouth == \"март\" and date <= 20):    \n",
    "    print(\"Рыбы\")\n",
    "elif (mouth == \"март\" and date >= 21) or (mouth == \"апрель\" and date <= 19):    \n",
    "    print(\"Овен\")    \n",
    "elif (mouth == \"апрель\" and date >= 20) or (mouth == \"май\" and date <= 20):    \n",
    "    print(\"Телец\")       \n",
    "elif (mouth == \"май\" and date >= 21) or (mouth == \"июнь\" and date <= 21):    \n",
    "    print(\"Близнецы\")\n",
    "elif (mouth == \"июнь\" and date >= 22) or (mouth == \"июль\" and date <= 22):    \n",
    "    print(\"Рак\")       \n",
    "elif (mouth == \"июль\" and date >= 23) or (mouth == \"август\" and date <= 22):    \n",
    "    print(\"Лев\")\n",
    "elif (mouth == \"август\" and date >= 23) or (mouth == \"сентябрь\" and date <= 22):    \n",
    "    print(\"Дева\")   \n",
    "elif (mouth == \"сентябрь\" and date >= 23) or (mouth == \"октябрь\" and date <= 23):    \n",
    "    print(\"Весы\")\n",
    "elif (mouth == \"октябрь\" and date >= 24) or (mouth == \"ноябрь\" and date <= 22):    \n",
    "    print(\"Скорпион\")\n",
    "elif (mouth == \"ноябрь\" and date >= 23) or (mouth == \"декабрь\" and date <= 21):    \n",
    "    print(\"Стрелец\")\n",
    "else:\n",
    "    print(\"Вы указали неверную дату\")"
   ]
  },
  {
   "cell_type": "markdown",
   "metadata": {},
   "source": [
    "**Задание 4**. Нужно разработать приложение для финансового планирования.\n",
    "Приложение учитывает сколько уходит на ипотеку, \"на жизнь\" и сколько нужно отложить на пенсию.\n",
    "Пользователь вводит:\n",
    "- заработанную плату в месяц.\n",
    "- сколько процентов от ЗП уходит на ипотеку.\n",
    "- сколько процентов от ЗП уходит \"на жизнь\".\n",
    "- сколько раз приходит премия в год.\n",
    "\n",
    "Остальная часть заработанной платы откладывается на пенсию.\n",
    "\n",
    "Также пользователю приходит премия в размере зарплаты, от которой половина уходит на отпуск, а вторая половина откладывается.\n",
    "\n",
    "Программа должна учитывать сколько премий было в год.\n",
    "\n",
    "Нужно вывести сколько денег тратит пользователь на ипотеку и сколько он накопит за год.\n",
    "\n",
    "Пример:\n",
    "\n",
    "Введите заработанную плату в месяц: 100000\n",
    "\n",
    "Введите сколько процентов уходит на ипотеку: 30\n",
    "\n",
    "Введите сколько процентов уходит на жизнь: 50\n",
    "\n",
    "Введите количество премий за год: 2\n",
    "\n",
    "Вывод:\n",
    "На ипотеку было потрачено: 360000 рублей\n",
    "Было накоплено: 340000 рублей"
   ]
  },
  {
   "cell_type": "code",
   "execution_count": null,
   "metadata": {},
   "outputs": [],
   "source": [
    "salary = int(input('Введите заработную плату'))\n",
    "mortgage = int(input('Введите процент от з/п, который вы тратите на ипотеку'))\n",
    "life = int(input('Введите процент трат на жизнь'))\n",
    "bonus = int(input('Введите количество премий'))\n",
    "salary_per_year = salary * 12\n",
    "life_per_year = (salary / 100) * life * 12\n",
    "mortgage_per_year = (salary / 100) * mortgage * 12\n",
    "bonus_per_year = salary * bonus\n",
    "saved_money = (salary_per_year + bonus_per_year) - (mortgage_per_year + life_per_year)\n",
    "print('На ипотеку было потрачено:', mortgage_per_year, \"Было накоплено:\", saved_money)"
   ]
  },
  {
   "cell_type": "code",
   "execution_count": null,
   "metadata": {},
   "outputs": [],
   "source": []
  }
 ],
 "metadata": {
  "kernelspec": {
   "display_name": "Python 3",
   "language": "python",
   "name": "python3"
  },
  "language_info": {
   "codemirror_mode": {
    "name": "ipython",
    "version": 3
   },
   "file_extension": ".py",
   "mimetype": "text/x-python",
   "name": "python",
   "nbconvert_exporter": "python",
   "pygments_lexer": "ipython3",
   "version": "3.7.4"
  }
 },
 "nbformat": 4,
 "nbformat_minor": 2
}
